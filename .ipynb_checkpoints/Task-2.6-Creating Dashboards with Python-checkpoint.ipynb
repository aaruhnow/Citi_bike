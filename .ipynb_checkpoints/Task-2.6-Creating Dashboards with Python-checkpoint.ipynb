{
 "cells": [
  {
   "cell_type": "markdown",
   "id": "830efdf1-d69c-4cda-8f21-053a3412c28f",
   "metadata": {},
   "source": [
    "# Task 2.6: Creating Dashboards with Python\n",
    "#### 1. Install libraries\n",
    "#### 2. Import Data\n",
    "#### 3. Data Wrangling\n",
    "#### 4. Use plotly to produce a bar chart for the most popular stations in New York.\n",
    "#### 5. Create a dual-axis line chart for the aggregated bike trips and temperatures in plotly."
   ]
  },
  {
   "cell_type": "markdown",
   "id": "d933fefd-13cf-4e3c-a820-9e03e9edf72c",
   "metadata": {},
   "source": [
    "### 1. Install Libraries"
   ]
  },
  {
   "cell_type": "code",
   "execution_count": null,
   "id": "033cc65c-9c88-46d3-b0ae-6e06de12ac12",
   "metadata": {},
   "outputs": [],
   "source": [
    "# Installing libaries\n",
    "import os\n",
    "import pandas as pd\n",
    "import numpy as np\n",
    "from plotly.subplots import make_subplots\n",
    "import plotly.graph_objects as go\n",
    "import matplotlib.pyplot as plt\n",
    "from datetime import datetime as dt "
   ]
  },
  {
   "cell_type": "markdown",
   "id": "ee8ef216-248a-4b2e-a0a8-022fb8b2741a",
   "metadata": {},
   "source": [
    "### 2. Import Data"
   ]
  },
  {
   "cell_type": "code",
   "execution_count": null,
   "id": "f2d5b59d-ce69-4602-b5ba-f02432c3ec0a",
   "metadata": {},
   "outputs": [],
   "source": [
    "# Importing Data\n",
    "df = pd.read_csv('LaGuardia_data.csv', index_col = 0)"
   ]
  },
  {
   "cell_type": "code",
   "execution_count": null,
   "id": "22ece092-1d2d-4674-bb87-6b41595a8328",
   "metadata": {},
   "outputs": [],
   "source": [
    "df.dtypes"
   ]
  },
  {
   "cell_type": "code",
   "execution_count": null,
   "id": "c0458f55-1aee-48fb-9a6e-00ef840d7685",
   "metadata": {},
   "outputs": [],
   "source": [
    "df.head(10)"
   ]
  },
  {
   "cell_type": "markdown",
   "id": "6332b237-3b19-4523-9a7b-ae2ea0b9b582",
   "metadata": {},
   "source": [
    "### 3. Data Wrangling"
   ]
  },
  {
   "cell_type": "code",
   "execution_count": null,
   "id": "6276e73b-e242-4773-a221-eb5c53e1c245",
   "metadata": {},
   "outputs": [],
   "source": [
    "# Create a month column\n",
    "df['date'] = pd.to_datetime(df['date'], format = '%Y-%m-%d')\n",
    "df['month'] = df['date'].dt.month\n",
    "df['month'] = df['month'].astype('int')"
   ]
  },
  {
   "cell_type": "code",
   "execution_count": null,
   "id": "032b35e9-4912-421e-8e7b-c4b8d0e6eb5a",
   "metadata": {},
   "outputs": [],
   "source": [
    "df.head()"
   ]
  },
  {
   "cell_type": "code",
   "execution_count": null,
   "id": "f1775a91-3846-49e8-a319-ff39d61e90d1",
   "metadata": {},
   "outputs": [],
   "source": [
    "# Create the season column\n",
    "df['season'] = [\n",
    "\"winter\" if (month == 12 or 1 <= month <= 2)\n",
    "    else \"spring\" if (3 < month <= 5)\n",
    "    else \"summer\" if (6 <= month <= 8)\n",
    "    else \"fall\"\n",
    "for month in df['month']\n",
    "    ]"
   ]
  },
  {
   "cell_type": "code",
   "execution_count": null,
   "id": "19d20851-d0ea-45d6-9452-1ba790e753c8",
   "metadata": {},
   "outputs": [],
   "source": [
    "df.head()"
   ]
  },
  {
   "cell_type": "markdown",
   "id": "61ee4546-32d4-461f-9325-9a3d8c62adba",
   "metadata": {},
   "source": [
    "### 4. Use plotly to produce a bar chart for the most popular stations in New York."
   ]
  },
  {
   "cell_type": "code",
   "execution_count": null,
   "id": "d017d51d-b72a-4960-9e99-82492a846fe5",
   "metadata": {},
   "outputs": [],
   "source": [
    "## Grouping the data by the column “start_station_name” and calculate the frequency/count to get Top 20 staions\n",
    "df['value'] = 1\n",
    "df_groupby_bar = df.groupby('start_station_name', as_index=False).agg({'value' : 'sum'})\n",
    "top_20 = df_groupby_bar.nlargest(20, 'value')"
   ]
  },
  {
   "cell_type": "code",
   "execution_count": null,
   "id": "08f48432-7e98-4465-bca6-c8039de16bc3",
   "metadata": {},
   "outputs": [],
   "source": [
    "fig = go.Figure(go.Bar(x = top_20['start_station_name'], y = top_20['value']))\n",
    "fig.show()"
   ]
  },
  {
   "cell_type": "code",
   "execution_count": null,
   "id": "647f07c4-fd63-4e9e-9999-8967ca7b6e12",
   "metadata": {},
   "outputs": [],
   "source": [
    "fig = go.Figure(go.Bar(x = top_20['start_station_name'], y = top_20['value'], marker={'color': top_20['value'],'colorscale': 'Blues'}))\n",
    "fig.show()"
   ]
  },
  {
   "cell_type": "code",
   "execution_count": null,
   "id": "e31b40ac-c2de-4988-a47c-bba0117ac97c",
   "metadata": {},
   "outputs": [],
   "source": [
    "## Creating Bar chart\n",
    "fig.update_layout(\n",
    "    title = 'Top 20 most popular bike stations in New York',\n",
    "    xaxis_title = 'Start stations',\n",
    "    yaxis_title ='Sum of trips',\n",
    "    width = 900, height = 600\n",
    ")"
   ]
  },
  {
   "cell_type": "code",
   "execution_count": null,
   "id": "68dd8ea0-c555-4131-a1ab-2b7d214b5a1f",
   "metadata": {},
   "outputs": [],
   "source": [
    "# Save the top 20 stations as a CSV file\n",
    "top_20.to_csv('top_20.csv')"
   ]
  },
  {
   "cell_type": "markdown",
   "id": "f0ae5ff5-8d7a-4b5a-ac14-a6970df1b52e",
   "metadata": {},
   "source": [
    "### 5. Create a dual-axis line chart for the aggregated bike trips and temperatures in plotly."
   ]
  },
  {
   "cell_type": "code",
   "execution_count": null,
   "id": "2108dc11-57d8-410a-8636-7fe3f1a9a8a2",
   "metadata": {},
   "outputs": [],
   "source": [
    "# Filter only the necessary columns and reset the index\n",
    "df_filtered = df[['date', 'bike_rides_daily', 'avgTemp']].reset_index(drop=True)"
   ]
  },
  {
   "cell_type": "code",
   "execution_count": null,
   "id": "7f3f4def-92d1-4837-8e24-deeab1aa22b4",
   "metadata": {},
   "outputs": [],
   "source": [
    "df_filtered.head()"
   ]
  },
  {
   "cell_type": "code",
   "execution_count": null,
   "id": "3e628513-6a42-4323-8255-cb9ade96dfff",
   "metadata": {},
   "outputs": [],
   "source": [
    "# Sampling filtered DataFrame\n",
    "df_sampled = df_filtered[::100]"
   ]
  },
  {
   "cell_type": "code",
   "execution_count": null,
   "id": "f8a851dc-6195-4dbf-8c81-9aa3caebf7f7",
   "metadata": {},
   "outputs": [],
   "source": [
    "# Create a figure with a secondary y-axis\n",
    "fig = make_subplots(specs=[[{\"secondary_y\": True}]])\n",
    "\n",
    "# Add the bike rides trace (Primary Y-axis)\n",
    "fig.add_trace(\n",
    "    go.Scatter(\n",
    "        x=df_sampled['date'], \n",
    "        y=df_sampled['bike_rides_daily'], \n",
    "        name='Daily bike rides', \n",
    "        line=dict(color='blue')  # Line color\n",
    "    ),\n",
    "    secondary_y=False\n",
    ")\n",
    "\n",
    "# Add the temperature trace (Secondary Y-axis)\n",
    "fig.add_trace(\n",
    "    go.Scatter(\n",
    "        x=df_sampled['date'], \n",
    "        y=df_sampled['avgTemp'], \n",
    "        name='Daily temperature', \n",
    "        line=dict(color='red')  # Line color\n",
    "    ),\n",
    "    secondary_y=True\n",
    ")\n",
    "\n",
    "# Update layout\n",
    "fig.update_layout(\n",
    "    title='Citi Bike Rides vs Temperatures New York 2022',\n",
    "    xaxis_title='Date',\n",
    "    yaxis_title='Bike Rides',\n",
    "    yaxis2_title='Temperature (°F)',  \n",
    "    template='plotly'  \n",
    ")\n",
    "\n",
    "fig.show()"
   ]
  },
  {
   "cell_type": "code",
   "execution_count": null,
   "id": "86ddcfe4-a495-4891-9086-cd431c4771ee",
   "metadata": {},
   "outputs": [],
   "source": [
    "df_sampled.to_csv('daily_rides_vs_temperature.csv')"
   ]
  },
  {
   "cell_type": "code",
   "execution_count": null,
   "id": "eeea92a0-1fa0-46d6-92c7-319b1143a356",
   "metadata": {},
   "outputs": [],
   "source": [
    "print(os.path.exists(\"Citi_bike Trips Aggregated.html\"))"
   ]
  },
  {
   "cell_type": "markdown",
   "id": "be66229c-25a2-43f1-a1cf-38ed23f6d9c4",
   "metadata": {},
   "source": [
    "### Reduce the row and column count"
   ]
  },
  {
   "cell_type": "code",
   "execution_count": null,
   "id": "961cb95e-e1d3-4153-befa-81b9d608e46c",
   "metadata": {},
   "outputs": [],
   "source": [
    "df.columns"
   ]
  },
  {
   "cell_type": "code",
   "execution_count": null,
   "id": "99627a1b-c116-4a00-97e2-960748792dcc",
   "metadata": {},
   "outputs": [],
   "source": [
    "# Create a copy with fewer columns\n",
    "df_1 = df.drop(columns = {'ride_id', 'rideable_type', 'started_at', 'ended_at',\n",
    "    'start_station_id','end_station_id', 'start_lat', 'start_lng', 'end_lat', 'end_lng',\n",
    "       'member_casual', '_merge',\n",
    "       'month'}) "
   ]
  },
  {
   "cell_type": "code",
   "execution_count": null,
   "id": "83e3e6f6-5697-4ecd-9e86-b1c288e53c18",
   "metadata": {},
   "outputs": [],
   "source": [
    "df_1.columns"
   ]
  },
  {
   "cell_type": "code",
   "execution_count": null,
   "id": "8933517f-d47a-43c5-9117-de3d25375a83",
   "metadata": {},
   "outputs": [],
   "source": [
    "df_1.head()"
   ]
  },
  {
   "cell_type": "markdown",
   "id": "426558c7-95d2-4f14-86e1-e983e9389a43",
   "metadata": {},
   "source": [
    "### Create random split"
   ]
  },
  {
   "cell_type": "code",
   "execution_count": null,
   "id": "34f8c9f0-d54c-426d-b68b-da99e46201d5",
   "metadata": {},
   "outputs": [],
   "source": [
    "# Creating random split\n",
    "np.random.seed(32)\n",
    "red = np.random.rand(len(df_1)) <= 0.92"
   ]
  },
  {
   "cell_type": "code",
   "execution_count": null,
   "id": "4dad4edd-590b-4239-8b03-e66e63cd4373",
   "metadata": {},
   "outputs": [],
   "source": [
    "small = df_1[~red]"
   ]
  },
  {
   "cell_type": "code",
   "execution_count": null,
   "id": "3cbab6dd-993d-4859-bf88-79d92b128670",
   "metadata": {},
   "outputs": [],
   "source": [
    "small.shape"
   ]
  },
  {
   "cell_type": "code",
   "execution_count": null,
   "id": "6faeef09-54b5-4f55-b0e4-5c25ded2f458",
   "metadata": {},
   "outputs": [],
   "source": [
    "df_1.memory_usage(deep=True).sum()"
   ]
  },
  {
   "cell_type": "code",
   "execution_count": null,
   "id": "4015829d-4dc2-488d-a7c6-34b69ceecd19",
   "metadata": {},
   "outputs": [],
   "source": [
    "small = df_1.sample(frac=0.01, random_state=32)"
   ]
  },
  {
   "cell_type": "code",
   "execution_count": null,
   "id": "d2eec1e6-520c-4f43-ac75-7d63a4b49648",
   "metadata": {},
   "outputs": [],
   "source": [
    "small.shape"
   ]
  },
  {
   "cell_type": "code",
   "execution_count": null,
   "id": "8715fb8a-b115-428b-8408-e901c9e6f385",
   "metadata": {},
   "outputs": [],
   "source": [
    "small.memory_usage(deep=True).sum()"
   ]
  },
  {
   "cell_type": "code",
   "execution_count": null,
   "id": "5d4f5550-d283-42fd-896f-ae7efe77cc7d",
   "metadata": {},
   "outputs": [],
   "source": [
    "# Order by date\n",
    "small.sort_values(by=\"date\", inplace=True)"
   ]
  },
  {
   "cell_type": "code",
   "execution_count": null,
   "id": "39fdfc83-38c9-407a-b006-b15f1237a830",
   "metadata": {},
   "outputs": [],
   "source": [
    "small.head()"
   ]
  },
  {
   "cell_type": "code",
   "execution_count": null,
   "id": "5bda6318-c45d-45fc-87de-adb59f477b98",
   "metadata": {},
   "outputs": [],
   "source": [
    "small.to_csv('reduced_data_to_plot_7.csv',index = False)"
   ]
  },
  {
   "cell_type": "code",
   "execution_count": null,
   "id": "104b9eb6-a07c-48fc-b3ad-663e5801f294",
   "metadata": {},
   "outputs": [],
   "source": [
    "import seaborn as sns\n",
    "\n",
    "#plt.rcParams['agg.path.chunksize'] = 101\n",
    "\n",
    "fig, ax = plt.subplots(figsize=(10, 5))\n",
    "\n",
    "# Create a plot of the bike rides\n",
    "line1, = ax.plot(small['date'], small['bike_rides_daily'], color=\"navy\", label=\"Bike Rides Daily\")\n",
    "ax.set_xlabel(\"Year 2022\", fontsize=14)  # Set x-axis label\n",
    "ax.set_ylabel(\"Bike rides daily\", color=\"navy\", fontsize=14)  # Set y-axis label\n",
    "\n",
    "# Create the dual axis\n",
    "ax2 = ax.twinx()\n",
    "\n",
    "# Make a plot with the temperatures on the y-axis using the second axis object\n",
    "line2, = ax2.plot(small['date'], small[\"avgTemp\"], color=\"red\", label=\"Average Temperatures\")\n",
    "ax2.set_ylabel(\"Average temperatures\", color=\"red\", fontsize=14)\n",
    "\n",
    "# Combine legends from both axes\n",
    "lines = [line1, line2]\n",
    "labels = [line.get_label() for line in lines]\n",
    "ax.legend(lines, labels, loc=\"upper left\", fontsize=12)\n",
    "\n",
    "# Add title\n",
    "plt.title(\"Temperature and trips in 2022\", fontsize=18)\n",
    "\n",
    "# Show the plot\n",
    "plt.show()"
   ]
  },
  {
   "cell_type": "code",
   "execution_count": null,
   "id": "2145465e-0deb-474e-82fb-8f1fa26de2b6",
   "metadata": {},
   "outputs": [],
   "source": [
    "fig_2 = make_subplots(specs = [[{\"secondary_y\": True}]])\n",
    "\n",
    "fig_2.add_trace(\n",
    "go.Scatter(x = small['date'], y = small['bike_rides_daily'], name = 'Daily bike rides', marker={'color': small['bike_rides_daily'],'color': 'blue'}),\n",
    "secondary_y = False\n",
    ")\n",
    "    \n",
    "fig_2.add_trace(\n",
    "go.Scatter(x=small['date'], y = small['avgTemp'], name = 'Daily temperature', marker={'color': small['avgTemp'],'color': 'red'}),\n",
    "secondary_y=True\n",
    ")\n",
    "\n",
    "fig_2.update_layout(\n",
    "title = 'Daily bike trips and temperatures in New York 2022',\n",
    "height = 600\n",
    ")\n",
    "    \n",
    "#st.plotly_chart(fig_2, use_container_width=True)"
   ]
  },
  {
   "cell_type": "code",
   "execution_count": null,
   "id": "6e8cbac3-86c0-45a7-aa59-10b032a80a8a",
   "metadata": {},
   "outputs": [],
   "source": []
  }
 ],
 "metadata": {
  "kernelspec": {
   "display_name": "Python [conda env:Citi_bike] *",
   "language": "python",
   "name": "conda-env-Citi_bike-py"
  },
  "language_info": {
   "codemirror_mode": {
    "name": "ipython",
    "version": 3
   },
   "file_extension": ".py",
   "mimetype": "text/x-python",
   "name": "python",
   "nbconvert_exporter": "python",
   "pygments_lexer": "ipython3",
   "version": "3.11.11"
  }
 },
 "nbformat": 4,
 "nbformat_minor": 5
}
